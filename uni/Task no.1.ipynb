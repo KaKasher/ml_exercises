{
 "cells": [
  {
   "cell_type": "code",
   "execution_count": null,
   "outputs": [],
   "source": [
    "# Kacper Gregorowicz - Bioinformatyka - task no.1"
   ],
   "metadata": {
    "collapsed": false
   }
  },
  {
   "cell_type": "code",
   "execution_count": 74,
   "metadata": {},
   "outputs": [],
   "source": [
    "import pandas as pd"
   ]
  },
  {
   "cell_type": "code",
   "execution_count": 62,
   "metadata": {},
   "outputs": [],
   "source": [
    "housing_data = pd.read_csv('data/kc_house_data.csv', index_col='id')\n",
    "iris_data = pd.read_csv('data/Iris.csv', index_col='Id')\n",
    "seeds_data = pd.read_csv('data/seeds.csv')"
   ]
  },
  {
   "cell_type": "code",
   "execution_count": 63,
   "metadata": {},
   "outputs": [
    {
     "data": {
      "text/plain": "                       date     price  bedrooms  bathrooms  sqft_living  \\\nid                                                                        \n7129300520  20141013T000000  221900.0         3       1.00         1180   \n6414100192  20141209T000000  538000.0         3       2.25         2570   \n5631500400  20150225T000000  180000.0         2       1.00          770   \n2487200875  20141209T000000  604000.0         4       3.00         1960   \n1954400510  20150218T000000  510000.0         3       2.00         1680   \n\n            sqft_lot  floors  waterfront  view  condition  grade  sqft_above  \\\nid                                                                             \n7129300520      5650     1.0           0     0          3      7        1180   \n6414100192      7242     2.0           0     0          3      7        2170   \n5631500400     10000     1.0           0     0          3      6         770   \n2487200875      5000     1.0           0     0          5      7        1050   \n1954400510      8080     1.0           0     0          3      8        1680   \n\n            sqft_basement  yr_built  yr_renovated  zipcode      lat     long  \\\nid                                                                             \n7129300520              0      1955             0    98178  47.5112 -122.257   \n6414100192            400      1951          1991    98125  47.7210 -122.319   \n5631500400              0      1933             0    98028  47.7379 -122.233   \n2487200875            910      1965             0    98136  47.5208 -122.393   \n1954400510              0      1987             0    98074  47.6168 -122.045   \n\n            sqft_living15  sqft_lot15  \nid                                     \n7129300520           1340        5650  \n6414100192           1690        7639  \n5631500400           2720        8062  \n2487200875           1360        5000  \n1954400510           1800        7503  ",
      "text/html": "<div>\n<style scoped>\n    .dataframe tbody tr th:only-of-type {\n        vertical-align: middle;\n    }\n\n    .dataframe tbody tr th {\n        vertical-align: top;\n    }\n\n    .dataframe thead th {\n        text-align: right;\n    }\n</style>\n<table border=\"1\" class=\"dataframe\">\n  <thead>\n    <tr style=\"text-align: right;\">\n      <th></th>\n      <th>date</th>\n      <th>price</th>\n      <th>bedrooms</th>\n      <th>bathrooms</th>\n      <th>sqft_living</th>\n      <th>sqft_lot</th>\n      <th>floors</th>\n      <th>waterfront</th>\n      <th>view</th>\n      <th>condition</th>\n      <th>grade</th>\n      <th>sqft_above</th>\n      <th>sqft_basement</th>\n      <th>yr_built</th>\n      <th>yr_renovated</th>\n      <th>zipcode</th>\n      <th>lat</th>\n      <th>long</th>\n      <th>sqft_living15</th>\n      <th>sqft_lot15</th>\n    </tr>\n    <tr>\n      <th>id</th>\n      <th></th>\n      <th></th>\n      <th></th>\n      <th></th>\n      <th></th>\n      <th></th>\n      <th></th>\n      <th></th>\n      <th></th>\n      <th></th>\n      <th></th>\n      <th></th>\n      <th></th>\n      <th></th>\n      <th></th>\n      <th></th>\n      <th></th>\n      <th></th>\n      <th></th>\n      <th></th>\n    </tr>\n  </thead>\n  <tbody>\n    <tr>\n      <th>7129300520</th>\n      <td>20141013T000000</td>\n      <td>221900.0</td>\n      <td>3</td>\n      <td>1.00</td>\n      <td>1180</td>\n      <td>5650</td>\n      <td>1.0</td>\n      <td>0</td>\n      <td>0</td>\n      <td>3</td>\n      <td>7</td>\n      <td>1180</td>\n      <td>0</td>\n      <td>1955</td>\n      <td>0</td>\n      <td>98178</td>\n      <td>47.5112</td>\n      <td>-122.257</td>\n      <td>1340</td>\n      <td>5650</td>\n    </tr>\n    <tr>\n      <th>6414100192</th>\n      <td>20141209T000000</td>\n      <td>538000.0</td>\n      <td>3</td>\n      <td>2.25</td>\n      <td>2570</td>\n      <td>7242</td>\n      <td>2.0</td>\n      <td>0</td>\n      <td>0</td>\n      <td>3</td>\n      <td>7</td>\n      <td>2170</td>\n      <td>400</td>\n      <td>1951</td>\n      <td>1991</td>\n      <td>98125</td>\n      <td>47.7210</td>\n      <td>-122.319</td>\n      <td>1690</td>\n      <td>7639</td>\n    </tr>\n    <tr>\n      <th>5631500400</th>\n      <td>20150225T000000</td>\n      <td>180000.0</td>\n      <td>2</td>\n      <td>1.00</td>\n      <td>770</td>\n      <td>10000</td>\n      <td>1.0</td>\n      <td>0</td>\n      <td>0</td>\n      <td>3</td>\n      <td>6</td>\n      <td>770</td>\n      <td>0</td>\n      <td>1933</td>\n      <td>0</td>\n      <td>98028</td>\n      <td>47.7379</td>\n      <td>-122.233</td>\n      <td>2720</td>\n      <td>8062</td>\n    </tr>\n    <tr>\n      <th>2487200875</th>\n      <td>20141209T000000</td>\n      <td>604000.0</td>\n      <td>4</td>\n      <td>3.00</td>\n      <td>1960</td>\n      <td>5000</td>\n      <td>1.0</td>\n      <td>0</td>\n      <td>0</td>\n      <td>5</td>\n      <td>7</td>\n      <td>1050</td>\n      <td>910</td>\n      <td>1965</td>\n      <td>0</td>\n      <td>98136</td>\n      <td>47.5208</td>\n      <td>-122.393</td>\n      <td>1360</td>\n      <td>5000</td>\n    </tr>\n    <tr>\n      <th>1954400510</th>\n      <td>20150218T000000</td>\n      <td>510000.0</td>\n      <td>3</td>\n      <td>2.00</td>\n      <td>1680</td>\n      <td>8080</td>\n      <td>1.0</td>\n      <td>0</td>\n      <td>0</td>\n      <td>3</td>\n      <td>8</td>\n      <td>1680</td>\n      <td>0</td>\n      <td>1987</td>\n      <td>0</td>\n      <td>98074</td>\n      <td>47.6168</td>\n      <td>-122.045</td>\n      <td>1800</td>\n      <td>7503</td>\n    </tr>\n  </tbody>\n</table>\n</div>"
     },
     "execution_count": 63,
     "metadata": {},
     "output_type": "execute_result"
    }
   ],
   "source": [
    "housing_data.head()"
   ]
  },
  {
   "cell_type": "code",
   "execution_count": 64,
   "metadata": {},
   "outputs": [
    {
     "name": "stdout",
     "output_type": "stream",
     "text": [
      "<class 'pandas.core.frame.DataFrame'>\n",
      "Int64Index: 21613 entries, 7129300520 to 1523300157\n",
      "Data columns (total 20 columns):\n",
      " #   Column         Non-Null Count  Dtype  \n",
      "---  ------         --------------  -----  \n",
      " 0   date           21613 non-null  object \n",
      " 1   price          21613 non-null  float64\n",
      " 2   bedrooms       21613 non-null  int64  \n",
      " 3   bathrooms      21613 non-null  float64\n",
      " 4   sqft_living    21613 non-null  int64  \n",
      " 5   sqft_lot       21613 non-null  int64  \n",
      " 6   floors         21613 non-null  float64\n",
      " 7   waterfront     21613 non-null  int64  \n",
      " 8   view           21613 non-null  int64  \n",
      " 9   condition      21613 non-null  int64  \n",
      " 10  grade          21613 non-null  int64  \n",
      " 11  sqft_above     21613 non-null  int64  \n",
      " 12  sqft_basement  21613 non-null  int64  \n",
      " 13  yr_built       21613 non-null  int64  \n",
      " 14  yr_renovated   21613 non-null  int64  \n",
      " 15  zipcode        21613 non-null  int64  \n",
      " 16  lat            21613 non-null  float64\n",
      " 17  long           21613 non-null  float64\n",
      " 18  sqft_living15  21613 non-null  int64  \n",
      " 19  sqft_lot15     21613 non-null  int64  \n",
      "dtypes: float64(5), int64(14), object(1)\n",
      "memory usage: 3.5+ MB\n"
     ]
    }
   ],
   "source": [
    "housing_data.info()"
   ]
  },
  {
   "cell_type": "code",
   "execution_count": 65,
   "outputs": [
    {
     "data": {
      "text/plain": "                 date         price   bedrooms  bathrooms   sqft_living  \\\nmin   20140502T000000  7.500000e+04   0.000000   0.000000    290.000000   \nmax   20150527T000000  7.700000e+06  33.000000   8.000000  13540.000000   \nmean              NaN  5.400881e+05   3.370842   2.114757   2079.899736   \n\n          sqft_lot    floors  waterfront      view  condition      grade  \\\nmin   5.200000e+02  1.000000    0.000000  0.000000    1.00000   1.000000   \nmax   1.651359e+06  3.500000    1.000000  4.000000    5.00000  13.000000   \nmean  1.510697e+04  1.494309    0.007542  0.234303    3.40943   7.656873   \n\n       sqft_above  sqft_basement     yr_built  yr_renovated       zipcode  \\\nmin    290.000000       0.000000  1900.000000      0.000000  98001.000000   \nmax   9410.000000    4820.000000  2015.000000   2015.000000  98199.000000   \nmean  1788.390691     291.509045  1971.005136     84.402258  98077.939805   \n\n            lat        long  sqft_living15     sqft_lot15  \nmin   47.155900 -122.519000     399.000000     651.000000  \nmax   47.777600 -121.315000    6210.000000  871200.000000  \nmean  47.560053 -122.213896    1986.552492   12768.455652  ",
      "text/html": "<div>\n<style scoped>\n    .dataframe tbody tr th:only-of-type {\n        vertical-align: middle;\n    }\n\n    .dataframe tbody tr th {\n        vertical-align: top;\n    }\n\n    .dataframe thead th {\n        text-align: right;\n    }\n</style>\n<table border=\"1\" class=\"dataframe\">\n  <thead>\n    <tr style=\"text-align: right;\">\n      <th></th>\n      <th>date</th>\n      <th>price</th>\n      <th>bedrooms</th>\n      <th>bathrooms</th>\n      <th>sqft_living</th>\n      <th>sqft_lot</th>\n      <th>floors</th>\n      <th>waterfront</th>\n      <th>view</th>\n      <th>condition</th>\n      <th>grade</th>\n      <th>sqft_above</th>\n      <th>sqft_basement</th>\n      <th>yr_built</th>\n      <th>yr_renovated</th>\n      <th>zipcode</th>\n      <th>lat</th>\n      <th>long</th>\n      <th>sqft_living15</th>\n      <th>sqft_lot15</th>\n    </tr>\n  </thead>\n  <tbody>\n    <tr>\n      <th>min</th>\n      <td>20140502T000000</td>\n      <td>7.500000e+04</td>\n      <td>0.000000</td>\n      <td>0.000000</td>\n      <td>290.000000</td>\n      <td>5.200000e+02</td>\n      <td>1.000000</td>\n      <td>0.000000</td>\n      <td>0.000000</td>\n      <td>1.00000</td>\n      <td>1.000000</td>\n      <td>290.000000</td>\n      <td>0.000000</td>\n      <td>1900.000000</td>\n      <td>0.000000</td>\n      <td>98001.000000</td>\n      <td>47.155900</td>\n      <td>-122.519000</td>\n      <td>399.000000</td>\n      <td>651.000000</td>\n    </tr>\n    <tr>\n      <th>max</th>\n      <td>20150527T000000</td>\n      <td>7.700000e+06</td>\n      <td>33.000000</td>\n      <td>8.000000</td>\n      <td>13540.000000</td>\n      <td>1.651359e+06</td>\n      <td>3.500000</td>\n      <td>1.000000</td>\n      <td>4.000000</td>\n      <td>5.00000</td>\n      <td>13.000000</td>\n      <td>9410.000000</td>\n      <td>4820.000000</td>\n      <td>2015.000000</td>\n      <td>2015.000000</td>\n      <td>98199.000000</td>\n      <td>47.777600</td>\n      <td>-121.315000</td>\n      <td>6210.000000</td>\n      <td>871200.000000</td>\n    </tr>\n    <tr>\n      <th>mean</th>\n      <td>NaN</td>\n      <td>5.400881e+05</td>\n      <td>3.370842</td>\n      <td>2.114757</td>\n      <td>2079.899736</td>\n      <td>1.510697e+04</td>\n      <td>1.494309</td>\n      <td>0.007542</td>\n      <td>0.234303</td>\n      <td>3.40943</td>\n      <td>7.656873</td>\n      <td>1788.390691</td>\n      <td>291.509045</td>\n      <td>1971.005136</td>\n      <td>84.402258</td>\n      <td>98077.939805</td>\n      <td>47.560053</td>\n      <td>-122.213896</td>\n      <td>1986.552492</td>\n      <td>12768.455652</td>\n    </tr>\n  </tbody>\n</table>\n</div>"
     },
     "execution_count": 65,
     "metadata": {},
     "output_type": "execute_result"
    }
   ],
   "source": [
    "housing_data.agg(['min', 'max', 'mean'])"
   ],
   "metadata": {
    "collapsed": false
   }
  },
  {
   "cell_type": "code",
   "execution_count": 66,
   "outputs": [
    {
     "data": {
      "text/plain": "      SepalLengthCm  SepalWidthCm  PetalLengthCm  PetalWidthCm         Species\nmin        4.300000         2.000       1.000000      0.100000     Iris-setosa\nmax        7.900000         4.400       6.900000      2.500000  Iris-virginica\nmean       5.843333         3.054       3.758667      1.198667             NaN",
      "text/html": "<div>\n<style scoped>\n    .dataframe tbody tr th:only-of-type {\n        vertical-align: middle;\n    }\n\n    .dataframe tbody tr th {\n        vertical-align: top;\n    }\n\n    .dataframe thead th {\n        text-align: right;\n    }\n</style>\n<table border=\"1\" class=\"dataframe\">\n  <thead>\n    <tr style=\"text-align: right;\">\n      <th></th>\n      <th>SepalLengthCm</th>\n      <th>SepalWidthCm</th>\n      <th>PetalLengthCm</th>\n      <th>PetalWidthCm</th>\n      <th>Species</th>\n    </tr>\n  </thead>\n  <tbody>\n    <tr>\n      <th>min</th>\n      <td>4.300000</td>\n      <td>2.000</td>\n      <td>1.000000</td>\n      <td>0.100000</td>\n      <td>Iris-setosa</td>\n    </tr>\n    <tr>\n      <th>max</th>\n      <td>7.900000</td>\n      <td>4.400</td>\n      <td>6.900000</td>\n      <td>2.500000</td>\n      <td>Iris-virginica</td>\n    </tr>\n    <tr>\n      <th>mean</th>\n      <td>5.843333</td>\n      <td>3.054</td>\n      <td>3.758667</td>\n      <td>1.198667</td>\n      <td>NaN</td>\n    </tr>\n  </tbody>\n</table>\n</div>"
     },
     "execution_count": 66,
     "metadata": {},
     "output_type": "execute_result"
    }
   ],
   "source": [
    "iris_data.agg(['min', 'max', 'mean'])"
   ],
   "metadata": {
    "collapsed": false
   }
  },
  {
   "cell_type": "code",
   "execution_count": 67,
   "outputs": [
    {
     "data": {
      "text/plain": "           Area  Perimeter  Compactness  Kernel_length  Kernel_width  \\\nmin   10.590000  12.410000     0.808100       4.899000      2.630000   \nmax   21.180000  17.250000     0.918300       6.675000      4.033000   \nmean  14.847524  14.559286     0.870999       5.628533      3.258605   \n\n      Asymmetry_coeff  Kernel_groove_length  Class  \nmin          0.765100              4.519000    1.0  \nmax          8.456000              6.550000    3.0  \nmean         3.700201              5.408071    2.0  ",
      "text/html": "<div>\n<style scoped>\n    .dataframe tbody tr th:only-of-type {\n        vertical-align: middle;\n    }\n\n    .dataframe tbody tr th {\n        vertical-align: top;\n    }\n\n    .dataframe thead th {\n        text-align: right;\n    }\n</style>\n<table border=\"1\" class=\"dataframe\">\n  <thead>\n    <tr style=\"text-align: right;\">\n      <th></th>\n      <th>Area</th>\n      <th>Perimeter</th>\n      <th>Compactness</th>\n      <th>Kernel_length</th>\n      <th>Kernel_width</th>\n      <th>Asymmetry_coeff</th>\n      <th>Kernel_groove_length</th>\n      <th>Class</th>\n    </tr>\n  </thead>\n  <tbody>\n    <tr>\n      <th>min</th>\n      <td>10.590000</td>\n      <td>12.410000</td>\n      <td>0.808100</td>\n      <td>4.899000</td>\n      <td>2.630000</td>\n      <td>0.765100</td>\n      <td>4.519000</td>\n      <td>1.0</td>\n    </tr>\n    <tr>\n      <th>max</th>\n      <td>21.180000</td>\n      <td>17.250000</td>\n      <td>0.918300</td>\n      <td>6.675000</td>\n      <td>4.033000</td>\n      <td>8.456000</td>\n      <td>6.550000</td>\n      <td>3.0</td>\n    </tr>\n    <tr>\n      <th>mean</th>\n      <td>14.847524</td>\n      <td>14.559286</td>\n      <td>0.870999</td>\n      <td>5.628533</td>\n      <td>3.258605</td>\n      <td>3.700201</td>\n      <td>5.408071</td>\n      <td>2.0</td>\n    </tr>\n  </tbody>\n</table>\n</div>"
     },
     "execution_count": 67,
     "metadata": {},
     "output_type": "execute_result"
    }
   ],
   "source": [
    "seeds_data.agg(['min', 'max', 'mean'])"
   ],
   "metadata": {
    "collapsed": false
   }
  },
  {
   "cell_type": "code",
   "execution_count": 68,
   "outputs": [
    {
     "data": {
      "text/plain": "            bedrooms  bathrooms  sqft_living  sqft_lot    floors  waterfront  \\\nid                                                                             \n7129300520  0.090909    0.12500     0.087149  0.003421  0.285714         0.0   \n6414100192  0.090909    0.28125     0.189808  0.004385  0.571429         0.0   \n5631500400  0.060606    0.12500     0.056869  0.006056  0.285714         0.0   \n2487200875  0.121212    0.37500     0.144756  0.003028  0.285714         0.0   \n1954400510  0.090909    0.25000     0.124077  0.004893  0.285714         0.0   \n\n            view  condition     grade  sqft_above  sqft_basement  yr_built  \\\nid                                                                           \n7129300520   0.0        0.6  0.538462    0.125399       0.000000  0.970223   \n6414100192   0.0        0.6  0.538462    0.230606       0.082988  0.968238   \n5631500400   0.0        0.6  0.461538    0.081828       0.000000  0.959305   \n2487200875   0.0        1.0  0.538462    0.111583       0.188797  0.975186   \n1954400510   0.0        0.6  0.615385    0.178533       0.000000  0.986104   \n\n            yr_renovated       lat      long  sqft_living15  sqft_lot15  \nid                                                                       \n7129300520      0.000000  0.994424 -0.997862       0.215781    0.006485  \n6414100192      0.988089  0.998815 -0.998368       0.272142    0.008768  \n5631500400      0.000000  0.999169 -0.997666       0.438003    0.009254  \n2487200875      0.000000  0.994625 -0.998972       0.219002    0.005739  \n1954400510      0.000000  0.996634 -0.996131       0.289855    0.008612  ",
      "text/html": "<div>\n<style scoped>\n    .dataframe tbody tr th:only-of-type {\n        vertical-align: middle;\n    }\n\n    .dataframe tbody tr th {\n        vertical-align: top;\n    }\n\n    .dataframe thead th {\n        text-align: right;\n    }\n</style>\n<table border=\"1\" class=\"dataframe\">\n  <thead>\n    <tr style=\"text-align: right;\">\n      <th></th>\n      <th>bedrooms</th>\n      <th>bathrooms</th>\n      <th>sqft_living</th>\n      <th>sqft_lot</th>\n      <th>floors</th>\n      <th>waterfront</th>\n      <th>view</th>\n      <th>condition</th>\n      <th>grade</th>\n      <th>sqft_above</th>\n      <th>sqft_basement</th>\n      <th>yr_built</th>\n      <th>yr_renovated</th>\n      <th>lat</th>\n      <th>long</th>\n      <th>sqft_living15</th>\n      <th>sqft_lot15</th>\n    </tr>\n    <tr>\n      <th>id</th>\n      <th></th>\n      <th></th>\n      <th></th>\n      <th></th>\n      <th></th>\n      <th></th>\n      <th></th>\n      <th></th>\n      <th></th>\n      <th></th>\n      <th></th>\n      <th></th>\n      <th></th>\n      <th></th>\n      <th></th>\n      <th></th>\n      <th></th>\n    </tr>\n  </thead>\n  <tbody>\n    <tr>\n      <th>7129300520</th>\n      <td>0.090909</td>\n      <td>0.12500</td>\n      <td>0.087149</td>\n      <td>0.003421</td>\n      <td>0.285714</td>\n      <td>0.0</td>\n      <td>0.0</td>\n      <td>0.6</td>\n      <td>0.538462</td>\n      <td>0.125399</td>\n      <td>0.000000</td>\n      <td>0.970223</td>\n      <td>0.000000</td>\n      <td>0.994424</td>\n      <td>-0.997862</td>\n      <td>0.215781</td>\n      <td>0.006485</td>\n    </tr>\n    <tr>\n      <th>6414100192</th>\n      <td>0.090909</td>\n      <td>0.28125</td>\n      <td>0.189808</td>\n      <td>0.004385</td>\n      <td>0.571429</td>\n      <td>0.0</td>\n      <td>0.0</td>\n      <td>0.6</td>\n      <td>0.538462</td>\n      <td>0.230606</td>\n      <td>0.082988</td>\n      <td>0.968238</td>\n      <td>0.988089</td>\n      <td>0.998815</td>\n      <td>-0.998368</td>\n      <td>0.272142</td>\n      <td>0.008768</td>\n    </tr>\n    <tr>\n      <th>5631500400</th>\n      <td>0.060606</td>\n      <td>0.12500</td>\n      <td>0.056869</td>\n      <td>0.006056</td>\n      <td>0.285714</td>\n      <td>0.0</td>\n      <td>0.0</td>\n      <td>0.6</td>\n      <td>0.461538</td>\n      <td>0.081828</td>\n      <td>0.000000</td>\n      <td>0.959305</td>\n      <td>0.000000</td>\n      <td>0.999169</td>\n      <td>-0.997666</td>\n      <td>0.438003</td>\n      <td>0.009254</td>\n    </tr>\n    <tr>\n      <th>2487200875</th>\n      <td>0.121212</td>\n      <td>0.37500</td>\n      <td>0.144756</td>\n      <td>0.003028</td>\n      <td>0.285714</td>\n      <td>0.0</td>\n      <td>0.0</td>\n      <td>1.0</td>\n      <td>0.538462</td>\n      <td>0.111583</td>\n      <td>0.188797</td>\n      <td>0.975186</td>\n      <td>0.000000</td>\n      <td>0.994625</td>\n      <td>-0.998972</td>\n      <td>0.219002</td>\n      <td>0.005739</td>\n    </tr>\n    <tr>\n      <th>1954400510</th>\n      <td>0.090909</td>\n      <td>0.25000</td>\n      <td>0.124077</td>\n      <td>0.004893</td>\n      <td>0.285714</td>\n      <td>0.0</td>\n      <td>0.0</td>\n      <td>0.6</td>\n      <td>0.615385</td>\n      <td>0.178533</td>\n      <td>0.000000</td>\n      <td>0.986104</td>\n      <td>0.000000</td>\n      <td>0.996634</td>\n      <td>-0.996131</td>\n      <td>0.289855</td>\n      <td>0.008612</td>\n    </tr>\n  </tbody>\n</table>\n</div>"
     },
     "execution_count": 68,
     "metadata": {},
     "output_type": "execute_result"
    }
   ],
   "source": [
    "housing_features = housing_data.drop(columns=['date', 'zipcode', 'price'])\n",
    "normalized_houses = (housing_features / (housing_features.abs()).max())\n",
    "normalized_houses.head()"
   ],
   "metadata": {
    "collapsed": false
   }
  },
  {
   "cell_type": "code",
   "execution_count": 69,
   "outputs": [
    {
     "data": {
      "text/plain": "    SepalLengthCm  SepalWidthCm  PetalLengthCm  PetalWidthCm\nId                                                          \n1        0.645570      0.795455       0.202899          0.08\n2        0.620253      0.681818       0.202899          0.08\n3        0.594937      0.727273       0.188406          0.08\n4        0.582278      0.704545       0.217391          0.08\n5        0.632911      0.818182       0.202899          0.08",
      "text/html": "<div>\n<style scoped>\n    .dataframe tbody tr th:only-of-type {\n        vertical-align: middle;\n    }\n\n    .dataframe tbody tr th {\n        vertical-align: top;\n    }\n\n    .dataframe thead th {\n        text-align: right;\n    }\n</style>\n<table border=\"1\" class=\"dataframe\">\n  <thead>\n    <tr style=\"text-align: right;\">\n      <th></th>\n      <th>SepalLengthCm</th>\n      <th>SepalWidthCm</th>\n      <th>PetalLengthCm</th>\n      <th>PetalWidthCm</th>\n    </tr>\n    <tr>\n      <th>Id</th>\n      <th></th>\n      <th></th>\n      <th></th>\n      <th></th>\n    </tr>\n  </thead>\n  <tbody>\n    <tr>\n      <th>1</th>\n      <td>0.645570</td>\n      <td>0.795455</td>\n      <td>0.202899</td>\n      <td>0.08</td>\n    </tr>\n    <tr>\n      <th>2</th>\n      <td>0.620253</td>\n      <td>0.681818</td>\n      <td>0.202899</td>\n      <td>0.08</td>\n    </tr>\n    <tr>\n      <th>3</th>\n      <td>0.594937</td>\n      <td>0.727273</td>\n      <td>0.188406</td>\n      <td>0.08</td>\n    </tr>\n    <tr>\n      <th>4</th>\n      <td>0.582278</td>\n      <td>0.704545</td>\n      <td>0.217391</td>\n      <td>0.08</td>\n    </tr>\n    <tr>\n      <th>5</th>\n      <td>0.632911</td>\n      <td>0.818182</td>\n      <td>0.202899</td>\n      <td>0.08</td>\n    </tr>\n  </tbody>\n</table>\n</div>"
     },
     "execution_count": 69,
     "metadata": {},
     "output_type": "execute_result"
    }
   ],
   "source": [
    "normalized_iris = (iris_data.iloc[:,:-1] / (iris_data.iloc[:,:-1].abs()).max())\n",
    "normalized_iris.head()"
   ],
   "metadata": {
    "collapsed": false
   }
  },
  {
   "cell_type": "code",
   "execution_count": 70,
   "outputs": [
    {
     "data": {
      "text/plain": "       Area  Perimeter  Compactness  Kernel_length  Kernel_width  \\\n0  0.720491   0.860290     0.948492       0.863371      0.821225   \n1  0.702550   0.844638     0.959490       0.832060      0.826432   \n2  0.674693   0.816812     0.985517       0.792659      0.827424   \n3  0.653447   0.808116     0.975172       0.797603      0.837838   \n4  0.762040   0.868986     0.983774       0.847640      0.883213   \n\n   Asymmetry_coeff  Kernel_groove_length  \n0         0.262654              0.796947  \n1         0.120388              0.756641  \n2         0.319182              0.736641  \n3         0.267148              0.733588  \n4         0.160241              0.790076  ",
      "text/html": "<div>\n<style scoped>\n    .dataframe tbody tr th:only-of-type {\n        vertical-align: middle;\n    }\n\n    .dataframe tbody tr th {\n        vertical-align: top;\n    }\n\n    .dataframe thead th {\n        text-align: right;\n    }\n</style>\n<table border=\"1\" class=\"dataframe\">\n  <thead>\n    <tr style=\"text-align: right;\">\n      <th></th>\n      <th>Area</th>\n      <th>Perimeter</th>\n      <th>Compactness</th>\n      <th>Kernel_length</th>\n      <th>Kernel_width</th>\n      <th>Asymmetry_coeff</th>\n      <th>Kernel_groove_length</th>\n    </tr>\n  </thead>\n  <tbody>\n    <tr>\n      <th>0</th>\n      <td>0.720491</td>\n      <td>0.860290</td>\n      <td>0.948492</td>\n      <td>0.863371</td>\n      <td>0.821225</td>\n      <td>0.262654</td>\n      <td>0.796947</td>\n    </tr>\n    <tr>\n      <th>1</th>\n      <td>0.702550</td>\n      <td>0.844638</td>\n      <td>0.959490</td>\n      <td>0.832060</td>\n      <td>0.826432</td>\n      <td>0.120388</td>\n      <td>0.756641</td>\n    </tr>\n    <tr>\n      <th>2</th>\n      <td>0.674693</td>\n      <td>0.816812</td>\n      <td>0.985517</td>\n      <td>0.792659</td>\n      <td>0.827424</td>\n      <td>0.319182</td>\n      <td>0.736641</td>\n    </tr>\n    <tr>\n      <th>3</th>\n      <td>0.653447</td>\n      <td>0.808116</td>\n      <td>0.975172</td>\n      <td>0.797603</td>\n      <td>0.837838</td>\n      <td>0.267148</td>\n      <td>0.733588</td>\n    </tr>\n    <tr>\n      <th>4</th>\n      <td>0.762040</td>\n      <td>0.868986</td>\n      <td>0.983774</td>\n      <td>0.847640</td>\n      <td>0.883213</td>\n      <td>0.160241</td>\n      <td>0.790076</td>\n    </tr>\n  </tbody>\n</table>\n</div>"
     },
     "execution_count": 70,
     "metadata": {},
     "output_type": "execute_result"
    }
   ],
   "source": [
    "normalized_seeds = (seeds_data.iloc[:,:-1] / (seeds_data.iloc[:,:-1].abs()).max())\n",
    "normalized_seeds.head()"
   ],
   "metadata": {
    "collapsed": false
   }
  },
  {
   "cell_type": "code",
   "execution_count": 71,
   "outputs": [],
   "source": [
    "#seeds = pd.read_csv('data/seeds.txt', delim_whitespace=True, names=['Area', 'Perimeter', 'Compactness', 'Kernel_length',\n",
    "#                                                       'Kernel_width', 'Asymmetry_coeff', 'Kernel_groove_length', 'Class'])"
   ],
   "metadata": {
    "collapsed": false
   }
  },
  {
   "cell_type": "code",
   "execution_count": 72,
   "outputs": [],
   "source": [
    "#seeds.head()"
   ],
   "metadata": {
    "collapsed": false
   }
  },
  {
   "cell_type": "code",
   "execution_count": 73,
   "outputs": [],
   "source": [
    "#seeds.to_csv('data/seeds.csv', index=False)"
   ],
   "metadata": {
    "collapsed": false
   }
  }
 ],
 "metadata": {
  "kernelspec": {
   "display_name": "Python 3",
   "language": "python",
   "name": "python3"
  },
  "language_info": {
   "codemirror_mode": {
    "name": "ipython",
    "version": 3
   },
   "file_extension": ".py",
   "mimetype": "text/x-python",
   "name": "python",
   "nbconvert_exporter": "python",
   "pygments_lexer": "ipython3",
   "version": "3.8.5"
  }
 },
 "nbformat": 4,
 "nbformat_minor": 4
}
